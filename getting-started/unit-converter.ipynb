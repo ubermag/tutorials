{
 "cells": [
  {
   "cell_type": "markdown",
   "id": "76ca7c58",
   "metadata": {
    "editable": true,
    "slideshow": {
     "slide_type": ""
    },
    "tags": []
   },
   "source": [
    "# Unit Conversions\n",
    "Micromagnetic simulations provide a method of simulating the magnetic structure in real materials. However, in order to do this we need to be able to convert the information we have about the system into the parameters that micromagnetics use."
   ]
  },
  {
   "cell_type": "markdown",
   "id": "8fdd1490",
   "metadata": {},
   "source": [
    "## CGS to SI\n",
    "`Ubermag` uses SI units for all of the system parameters. Experimentally, material parameters are can often be measured in CGS units SI units, or a mixture of the two. Firstly, we show a convinent way of converting from CGS to SI units and other useful quantities.\n",
    "\n",
    "To do this, we make use of `astropy.units`, a package aimed at the astrophysics community for its unit converting functionality. `astropy` is not installed by default. We can install it (e.g. with `pip`) directly from the notebook. Generally, you will not install `astropy` from inside the notebook (using either `pip` or `conda`) but for the sake of demonstration we run the command in here."
   ]
  },
  {
   "cell_type": "code",
   "execution_count": 1,
   "id": "19a4a0d4-ceaf-4b0f-b481-8766053071c9",
   "metadata": {
    "editable": true,
    "slideshow": {
     "slide_type": ""
    },
    "tags": [
     "nbval-ignore-output"
    ]
   },
   "outputs": [
    {
     "name": "stdout",
     "output_type": "stream",
     "text": [
      "Requirement already satisfied: astropy in /home/mlang/miniconda3/envs/ubermagdev310/lib/python3.10/site-packages (5.3.4)\n",
      "Requirement already satisfied: numpy<2,>=1.21 in /home/mlang/miniconda3/envs/ubermagdev310/lib/python3.10/site-packages (from astropy) (1.26.0)\n",
      "Requirement already satisfied: pyerfa>=2.0 in /home/mlang/miniconda3/envs/ubermagdev310/lib/python3.10/site-packages (from astropy) (2.0.1)\n",
      "Requirement already satisfied: PyYAML>=3.13 in /home/mlang/miniconda3/envs/ubermagdev310/lib/python3.10/site-packages (from astropy) (6.0.1)\n",
      "Requirement already satisfied: packaging>=19.0 in /home/mlang/miniconda3/envs/ubermagdev310/lib/python3.10/site-packages (from astropy) (23.1)\n"
     ]
    }
   ],
   "source": [
    "!pip install astropy"
   ]
  },
  {
   "cell_type": "markdown",
   "id": "2c45f839-f957-49b8-a3ed-9e1182cdba29",
   "metadata": {},
   "source": [
    "Now we can import `astropy`."
   ]
  },
  {
   "cell_type": "code",
   "execution_count": 2,
   "id": "038a0dbb",
   "metadata": {},
   "outputs": [],
   "source": [
    "import numpy as np\n",
    "from astropy import units as u"
   ]
  },
  {
   "cell_type": "markdown",
   "id": "c303c82a",
   "metadata": {},
   "source": [
    "To initalise a value with units, one has to simply multiply the value by the units provided."
   ]
  },
  {
   "cell_type": "code",
   "execution_count": 3,
   "id": "f9683093",
   "metadata": {},
   "outputs": [
    {
     "data": {
      "text/latex": [
       "$100 \\; \\mathrm{G}$"
      ],
      "text/plain": [
       "<Quantity 100. G>"
      ]
     },
     "execution_count": 3,
     "metadata": {},
     "output_type": "execute_result"
    }
   ],
   "source": [
    "field = 100 * u.Gauss\n",
    "field"
   ]
  },
  {
   "cell_type": "markdown",
   "id": "59b5d9dc",
   "metadata": {},
   "source": [
    "These units remain with the variable throughout operations. "
   ]
  },
  {
   "cell_type": "code",
   "execution_count": 4,
   "id": "ca3c9542",
   "metadata": {},
   "outputs": [
    {
     "data": {
      "text/latex": [
       "$1000 \\; \\mathrm{G}$"
      ],
      "text/plain": [
       "<Quantity 1000. G>"
      ]
     },
     "execution_count": 4,
     "metadata": {},
     "output_type": "execute_result"
    }
   ],
   "source": [
    "field2 = field * 10\n",
    "field2"
   ]
  },
  {
   "cell_type": "markdown",
   "id": "35b43792",
   "metadata": {},
   "source": [
    "We can easily convert to SI units by using"
   ]
  },
  {
   "cell_type": "code",
   "execution_count": 5,
   "id": "93d64798",
   "metadata": {},
   "outputs": [
    {
     "data": {
      "text/latex": [
       "$0.1 \\; \\mathrm{T}$"
      ],
      "text/plain": [
       "<Quantity 0.1 T>"
      ]
     },
     "execution_count": 5,
     "metadata": {},
     "output_type": "execute_result"
    }
   ],
   "source": [
    "field2.si"
   ]
  },
  {
   "cell_type": "markdown",
   "id": "1418031a",
   "metadata": {},
   "source": [
    "Magnetic moment can be expressed using the following CGS units"
   ]
  },
  {
   "cell_type": "code",
   "execution_count": 6,
   "id": "ea08a693",
   "metadata": {},
   "outputs": [
    {
     "data": {
      "text/latex": [
       "$1 \\; \\mathrm{\\frac{erg}{G}}$"
      ],
      "text/plain": [
       "<Quantity 1. erg / G>"
      ]
     },
     "execution_count": 6,
     "metadata": {},
     "output_type": "execute_result"
    }
   ],
   "source": [
    "magnetic_moment = 1 * u.erg / u.Gauss\n",
    "magnetic_moment"
   ]
  },
  {
   "cell_type": "markdown",
   "id": "c6a6e35d",
   "metadata": {},
   "source": [
    "and simplified using"
   ]
  },
  {
   "cell_type": "code",
   "execution_count": 7,
   "id": "dfbe7ebf",
   "metadata": {
    "tags": [
     "nbval-ignore-output"
    ]
   },
   "outputs": [
    {
     "data": {
      "text/latex": [
       "$0.001 \\; \\mathrm{m^{2}\\,A}$"
      ],
      "text/plain": [
       "<Quantity 0.001 m2 A>"
      ]
     },
     "execution_count": 7,
     "metadata": {},
     "output_type": "execute_result"
    }
   ],
   "source": [
    "magnetic_moment.si"
   ]
  },
  {
   "cell_type": "markdown",
   "id": "e6ac0a10",
   "metadata": {},
   "source": [
    "If we wish to detach the numervical value for its units, we can do this using `.value`"
   ]
  },
  {
   "cell_type": "code",
   "execution_count": 8,
   "id": "6fc412ad",
   "metadata": {},
   "outputs": [
    {
     "data": {
      "text/plain": [
       "0.001"
      ]
     },
     "execution_count": 8,
     "metadata": {},
     "output_type": "execute_result"
    }
   ],
   "source": [
    "magnetic_moment.si.value"
   ]
  },
  {
   "cell_type": "markdown",
   "id": "3d22289b",
   "metadata": {},
   "source": [
    "### Equivalencies\n",
    "\n",
    "The `astropy.units` also enables conversions of units with different equivalencies i.e. temperature and energy. To use this we can create a variable with the relevant units of temperature and use the `to` function to convert to the relevant units with the relevant equivalency.\n",
    "\n",
    "For example, if an exchange interaction has a temperature of 4.15 K we can calculate the equivalent energy in J."
   ]
  },
  {
   "cell_type": "code",
   "execution_count": 9,
   "id": "bf6598c8",
   "metadata": {},
   "outputs": [
    {
     "data": {
      "text/latex": [
       "$5.7296934 \\times 10^{-23} \\; \\mathrm{J}$"
      ],
      "text/plain": [
       "<Quantity 5.72969335e-23 J>"
      ]
     },
     "execution_count": 9,
     "metadata": {},
     "output_type": "execute_result"
    }
   ],
   "source": [
    "t_k = 4.15 * u.K\n",
    "t_k.to(u.J, equivalencies=u.temperature_energy())"
   ]
  },
  {
   "cell_type": "markdown",
   "id": "3b9b4a7a",
   "metadata": {},
   "source": [
    "While `astropy` handles a variety of units and conversions, it does not currently have an equivalency for magnetic induction and magnetic field strength i.e. B to H . As this is a very useful for the magnetism community, we have provided the conversion here."
   ]
  },
  {
   "cell_type": "code",
   "execution_count": 10,
   "id": "6bade6a7",
   "metadata": {},
   "outputs": [],
   "source": [
    "from astropy import constants as const\n",
    "\n",
    "induction_field = [(u.T, u.A / u.m, lambda x: x / const.mu0, lambda x: const.mu0 * x)]"
   ]
  },
  {
   "cell_type": "code",
   "execution_count": 11,
   "id": "bb8602fb",
   "metadata": {},
   "outputs": [
    {
     "data": {
      "text/latex": [
       "$7957.7472 \\; \\mathrm{\\frac{A}{m}}$"
      ],
      "text/plain": [
       "<Quantity 7957.74715026 A / m>"
      ]
     },
     "execution_count": 11,
     "metadata": {},
     "output_type": "execute_result"
    }
   ],
   "source": [
    "field = 100 * u.Gauss\n",
    "field.to(u.A / u.m, equivalencies=induction_field)"
   ]
  },
  {
   "cell_type": "markdown",
   "id": "a449ac4d",
   "metadata": {},
   "source": [
    "## Parameters\n",
    "Here we will describe some select methods for relating atomistic parameters, micromagnetic parameters, and experimental results.\n",
    "\n",
    "NOTE: Different definitions of the exchange Hamiltonian will lead to different conversion factors. Here, we use the atomistic exchange Hamiltonian\n",
    "\\begin{equation}\n",
    "{\\cal H}_{ex} = -\\frac{1}{2}\\sum_{i\\neq j} J_{ij} {\\bf S}_i \\cdot {\\bf S}_j,\n",
    "\\end{equation}\n",
    "where $\\lvert{\\bf S}_i \\rvert = \\lvert {\\bf S}_j \\rvert = 1$ are the normaised spin vectors, and $J_{ij}$ is the exchange between the."
   ]
  },
  {
   "cell_type": "markdown",
   "id": "cb37c0bf",
   "metadata": {},
   "source": [
    "### Exchange\n",
    "#### Atomistic\n",
    "The atomistic exchange $J$ can be obtained from the Curie temperature $T_\\text{C}$ of a material by using\n",
    "\\begin{equation}\n",
    "J = \\frac{3k_\\text{B}T_\\text{C}}{\\epsilon z},\n",
    "\\end{equation}\n",
    "where $k_\\text{B}$ is the Boltzmann constant, $z$ is the number of nearest neighbours, and $\\epsilon$ is\n",
    "a structural depended correction factor. The values of this correction factor has been calculated in Table I of [Garanin 1996](https://doi.org/10.1103/PhysRevB.53.11593)."
   ]
  },
  {
   "cell_type": "code",
   "execution_count": 12,
   "id": "4cb2da6e",
   "metadata": {},
   "outputs": [],
   "source": [
    "from scipy import constants\n",
    "\n",
    "\n",
    "def Tc_to_J(Tc, e, z):\n",
    "    return Tc * 3 * constants.k / (e * z)"
   ]
  },
  {
   "cell_type": "markdown",
   "id": "eec257b7",
   "metadata": {},
   "source": [
    "For example, a system with a $T_c$ of 100 K and a fcc cubic structure."
   ]
  },
  {
   "cell_type": "code",
   "execution_count": 13,
   "id": "10c481d3",
   "metadata": {},
   "outputs": [
    {
     "data": {
      "text/plain": [
       "4.271810024752475e-22"
      ]
     },
     "execution_count": 13,
     "metadata": {},
     "output_type": "execute_result"
    }
   ],
   "source": [
    "Tc = 100\n",
    "e = 0.808\n",
    "z = 12\n",
    "J = Tc_to_J(Tc, e, z)\n",
    "J"
   ]
  },
  {
   "cell_type": "markdown",
   "id": "f457c45f",
   "metadata": {},
   "source": [
    "#### Micromagnetic\n",
    "The micromagnetic exchange correlation constant $A$ can be related to atomistic exchange using\n",
    "\\begin{equation}\n",
    "A = \\frac{zJl^2}{12V},\n",
    "\\end{equation}\n",
    "where $J$ is the Heisenberg exchange, $z$ is the number of nearest neighbour atoms, and $l$ is the distance between neighbor atoms and $V$ is the crystal volume per magnetic atom."
   ]
  },
  {
   "cell_type": "code",
   "execution_count": 14,
   "id": "855c1707",
   "metadata": {},
   "outputs": [],
   "source": [
    "def J_to_A(J, z, l, V):\n",
    "    return J * l * l * z / (12 * V)"
   ]
  },
  {
   "cell_type": "code",
   "execution_count": 15,
   "id": "054b706b",
   "metadata": {},
   "outputs": [
    {
     "data": {
      "text/plain": [
       "8.922285495270508e-13"
      ]
     },
     "execution_count": 15,
     "metadata": {},
     "output_type": "execute_result"
    }
   ],
   "source": [
    "l = 6.84e-10\n",
    "V = 2.24e-28\n",
    "A = J_to_A(J, z, l, V)\n",
    "A"
   ]
  },
  {
   "cell_type": "markdown",
   "id": "849e5a35",
   "metadata": {},
   "source": [
    "The micromagnetic exchange correlation constant can be obtained directly from $T_c$ using \n",
    "\\begin{equation}\n",
    "A = \\frac{k_\\text{B}T_\\text{C}l^2}{4\\epsilon V}.\n",
    "\\end{equation}"
   ]
  },
  {
   "cell_type": "code",
   "execution_count": 16,
   "id": "30d8adc6",
   "metadata": {},
   "outputs": [],
   "source": [
    "def Tc_to_A(Tc, e, l, V):\n",
    "    return Tc * constants.k * l * l / (4 * e * V)"
   ]
  },
  {
   "cell_type": "code",
   "execution_count": 17,
   "id": "af5dea94",
   "metadata": {},
   "outputs": [
    {
     "data": {
      "text/plain": [
       "8.922285495270509e-13"
      ]
     },
     "execution_count": 17,
     "metadata": {},
     "output_type": "execute_result"
    }
   ],
   "source": [
    "A = Tc_to_A(Tc, e, l, V)\n",
    "A"
   ]
  },
  {
   "cell_type": "markdown",
   "id": "890b6045",
   "metadata": {},
   "source": [
    "### DMI\n",
    "#### Atomistic\n",
    "\n",
    "The Dzyaloshinskii–Moriya interaction is given by\n",
    "\\begin{equation}\n",
    "{\\cal H}_{ex} = -\\frac{1}{2}\\sum_{i\\neq j} {\\bf d}_{ij} \\cdot \\left( {\\bf S}_i \\times {\\bf S}_j \\right),\n",
    "\\end{equation}\n",
    "where ${\\bf d}_{ij}$ is the atomistic DMI vector. "
   ]
  },
  {
   "cell_type": "markdown",
   "id": "8ee50087",
   "metadata": {},
   "source": [
    "#### Micromagentic\n",
    "The micromagnetic DMI constant $D$ can be related to atomistic DMI  using\n",
    "\\begin{equation}\n",
    "D = \\frac{zdl}{12V},\n",
    "\\end{equation}\n",
    "where $d$ is the atomistic DMI, $z$ is the number of nearest neighbour atoms, and $l$ is the distance between neighbor atoms and $V$ is the crystal volume per magnetic atom."
   ]
  },
  {
   "cell_type": "code",
   "execution_count": 18,
   "id": "748d0b45",
   "metadata": {},
   "outputs": [],
   "source": [
    "def d_to_D(d, z, l, V):\n",
    "    return d * l * z / (12 * V)"
   ]
  },
  {
   "cell_type": "code",
   "execution_count": 19,
   "id": "4fabaa97",
   "metadata": {},
   "outputs": [
    {
     "data": {
      "text/plain": [
       "6.137678571428571e-05"
      ]
     },
     "execution_count": 19,
     "metadata": {},
     "output_type": "execute_result"
    }
   ],
   "source": [
    "d = 2.01e-23\n",
    "D = d_to_D(d, z, l, V)\n",
    "D"
   ]
  },
  {
   "cell_type": "markdown",
   "id": "d14dd8ed",
   "metadata": {},
   "source": [
    "The DMI constants are not easy to measure experimentally, however they can be be calculated from the helical period P using\n",
    "\\begin{equation}\n",
    "P = \\frac{4\\pi A}{|D|},\n",
    "\\end{equation}\n",
    "where $A$ and $D$ are the micromagnetic exchange and DMI respectively."
   ]
  },
  {
   "cell_type": "code",
   "execution_count": 20,
   "id": "60107ab6",
   "metadata": {},
   "outputs": [],
   "source": [
    "def P_to_D(P, A):\n",
    "    return 4 * np.pi * A / P\n",
    "\n",
    "\n",
    "def D_to_P(D, A):\n",
    "    return 4 * np.pi * A / abs(D)"
   ]
  },
  {
   "cell_type": "markdown",
   "id": "5709f726",
   "metadata": {},
   "source": [
    "For a system with a micromagentic exchange of $6\\times 10^{-14}$ Jm$^{-1}$ and a helical period of 20 nm"
   ]
  },
  {
   "cell_type": "code",
   "execution_count": 21,
   "id": "1a755461",
   "metadata": {},
   "outputs": [
    {
     "data": {
      "text/plain": [
       "3.7699111843077517e-05"
      ]
     },
     "execution_count": 21,
     "metadata": {},
     "output_type": "execute_result"
    }
   ],
   "source": [
    "A = 6e-14\n",
    "D = P_to_D(20e-9, A)\n",
    "D"
   ]
  },
  {
   "cell_type": "markdown",
   "id": "029fad48",
   "metadata": {},
   "source": [
    "For atomistic simulations, this can be converted into\n",
    "\\begin{equation}\n",
    "P = \\frac{4\\pi J l}{|d|},\n",
    "\\end{equation}\n",
    "where $J$ is the Heisenberg exchange, $d$ is the atomistic DMI, and $l$ is the distance between neighbor atoms."
   ]
  },
  {
   "cell_type": "markdown",
   "id": "e3a61a76",
   "metadata": {},
   "source": [
    "### Saturation Magnetisation\n",
    "#### Micromagnetics\n",
    "The saturation magnetisation is often measured in $\\mu_\\text{B}/f.u.$ but is needed in A/m in micromagnetics. A simple converstion can be used\n",
    "\\begin{equation}\n",
    "M_s [ \\text{A}/ \\text{m}]= \\frac{\\mu_\\text{B} M_s[\\mu_\\text{B}/f.u.]}{V},\n",
    "\\end{equation}\n",
    "where $M_s[\\mu_\\text{B}/f.u.]$ is the saturation magnetisation in $\\mu_B$ per formula unit, $\\mu_B$ is the Bohr magneton in J/m, and $V$ is the volume of the formula unit in m$^3$."
   ]
  },
  {
   "cell_type": "code",
   "execution_count": 22,
   "id": "9ba7a0c1",
   "metadata": {},
   "outputs": [],
   "source": [
    "def Ms_muB_to_Am(Ms, V):\n",
    "    return constants.value(\"Bohr magneton\") * Ms / V"
   ]
  },
  {
   "cell_type": "code",
   "execution_count": 23,
   "id": "040daed3",
   "metadata": {},
   "outputs": [
    {
     "name": "stdout",
     "output_type": "stream",
     "text": [
      "33066.10835716991\n"
     ]
    }
   ],
   "source": [
    "Ms = Ms_muB_to_Am(0.8, 2.24375e-28)\n",
    "print(Ms)"
   ]
  },
  {
   "cell_type": "markdown",
   "id": "856bdbb0",
   "metadata": {},
   "source": [
    "#### Atomistic\n",
    "In atomistic simulations the saturation magnetisation $M_s$ in micromagnetic simulations can be related to the magnetic moment $\\mu$ simply by\n",
    "\\begin{equation}\n",
    "\\mu = M_s V,\n",
    "\\end{equation}\n",
    "where $V$ is the crystal volume per magnetic atom."
   ]
  },
  {
   "cell_type": "code",
   "execution_count": 24,
   "id": "7c787581",
   "metadata": {},
   "outputs": [],
   "source": [
    "def Ms_to_mu(Ms, V):\n",
    "    return Ms * V"
   ]
  },
  {
   "cell_type": "code",
   "execution_count": 25,
   "id": "6277ffa4",
   "metadata": {},
   "outputs": [
    {
     "data": {
      "text/plain": [
       "1.3440000000000002e-22"
      ]
     },
     "execution_count": 25,
     "metadata": {},
     "output_type": "execute_result"
    }
   ],
   "source": [
    "Ms = 6e5\n",
    "mu = Ms_to_mu(Ms, V)\n",
    "mu"
   ]
  },
  {
   "cell_type": "markdown",
   "id": "fa6b83dd",
   "metadata": {},
   "source": [
    "### Anisotropy\n",
    "#### Micromagnetic\n",
    "Anisotropy can can be measured experimentally in a variety of different ways. The results torque magnetometry, for example, can give correct value for the anisotropy in units of Jm$^{-3}$."
   ]
  },
  {
   "cell_type": "markdown",
   "id": "68b3c748",
   "metadata": {},
   "source": [
    "#### Atomistic\n",
    "Similarly to the saturation magnetisation the conversion between micromagnetic $K$ and atomistic anisotropy $k$ is simply volume weighted\n",
    "\\begin{equation}\n",
    "k = K V,\n",
    "\\end{equation}\n",
    "where $V$ is the crystal volume per magnetic atom.\n",
    "This atomistic anisotropy $k$ can also be calculated from the difference in energy of $J$ in different directions. i.e. $J_{\\perp} = 6\\times 10^{-23}$ J and $J_{\\parallel} = 5 \\times 10^{-23}$ J gives an atomistic anisotropy $k=1\\times 10^{-23}$ J."
   ]
  },
  {
   "cell_type": "code",
   "execution_count": 26,
   "id": "ddf3e9bb",
   "metadata": {},
   "outputs": [],
   "source": [
    "def K_to_k(K, V):\n",
    "    return Ms * V"
   ]
  },
  {
   "cell_type": "code",
   "execution_count": 27,
   "id": "70beef52",
   "metadata": {},
   "outputs": [
    {
     "data": {
      "text/plain": [
       "1.3440000000000002e-22"
      ]
     },
     "execution_count": 27,
     "metadata": {},
     "output_type": "execute_result"
    }
   ],
   "source": [
    "K = 1.2e6\n",
    "k = K_to_k(K, V)\n",
    "k"
   ]
  },
  {
   "cell_type": "markdown",
   "id": "1d33ec10",
   "metadata": {},
   "source": [
    "## Worked Example"
   ]
  },
  {
   "cell_type": "markdown",
   "id": "2da69916",
   "metadata": {},
   "source": [
    "Here FeGe will be used as example for how to obtain micromagnetic parameters. FeGe has a cubic crystal structure with four Ge and four Fe atoms per unit cell with a lattice constant of $a=\t\n",
    "4.6995$ Å and the distance between Fe atoms is 2.881 Å \\[[Wilhelm 2007](http://doi.org/10.1016/j.stam.2007.04.004)\\]. The saturation magnetisation is $1.07 \\mu_\\text{B}/f.u.$ \\[[Yamada 2003](https://doi.org/10.1016%2FS0921-4526%2802%2902471-7)\\] and magnetic ordering temperature is 278 K \\[[Lebech 1989](https://iopscience.iop.org/article/10.1088/0953-8984/1/35/010/meta)\\]. The helical period of FeGe is $\\sim 70$ nm \\[[Yu 2011](https://doi.org/10.1038/nmat2916)\\]."
   ]
  },
  {
   "cell_type": "code",
   "execution_count": 28,
   "id": "99d33571",
   "metadata": {},
   "outputs": [],
   "source": [
    "a = 4.6995e-10\n",
    "l = 2.881e-10\n",
    "Ms_orig = 1.07\n",
    "Tc = 278\n",
    "P = 70e-9"
   ]
  },
  {
   "cell_type": "markdown",
   "id": "d9b0b34a",
   "metadata": {},
   "source": [
    "Volume per magnetic atom"
   ]
  },
  {
   "cell_type": "code",
   "execution_count": 29,
   "id": "c199758e",
   "metadata": {},
   "outputs": [
    {
     "data": {
      "text/plain": [
       "2.594746713121875e-29"
      ]
     },
     "execution_count": 29,
     "metadata": {},
     "output_type": "execute_result"
    }
   ],
   "source": [
    "V = (a**3) / 4\n",
    "V"
   ]
  },
  {
   "cell_type": "markdown",
   "id": "3363749a",
   "metadata": {},
   "source": [
    "Saturation magnetisation"
   ]
  },
  {
   "cell_type": "code",
   "execution_count": 30,
   "id": "880c11fb",
   "metadata": {},
   "outputs": [
    {
     "data": {
      "text/plain": [
       "382433.88973569183"
      ]
     },
     "execution_count": 30,
     "metadata": {},
     "output_type": "execute_result"
    }
   ],
   "source": [
    "Ms = Ms_muB_to_Am(Ms_orig, V)\n",
    "Ms"
   ]
  },
  {
   "cell_type": "markdown",
   "id": "33afdae3",
   "metadata": {},
   "source": [
    "Exchange"
   ]
  },
  {
   "cell_type": "code",
   "execution_count": 31,
   "id": "b41d829d",
   "metadata": {},
   "outputs": [
    {
     "data": {
      "text/plain": [
       "4.76621650209023e-12"
      ]
     },
     "execution_count": 31,
     "metadata": {},
     "output_type": "execute_result"
    }
   ],
   "source": [
    "e = 0.644\n",
    "A = Tc_to_A(Tc, e, l, V)\n",
    "A"
   ]
  },
  {
   "cell_type": "markdown",
   "id": "e8b7d0e6",
   "metadata": {},
   "source": [
    "DMI"
   ]
  },
  {
   "cell_type": "code",
   "execution_count": 32,
   "id": "6e97af98",
   "metadata": {
    "editable": true,
    "slideshow": {
     "slide_type": ""
    },
    "tags": []
   },
   "outputs": [
    {
     "data": {
      "text/plain": [
       "0.000855629185622006"
      ]
     },
     "execution_count": 32,
     "metadata": {},
     "output_type": "execute_result"
    }
   ],
   "source": [
    "D = P_to_D(P, A)\n",
    "D"
   ]
  }
 ],
 "metadata": {
  "kernelspec": {
   "display_name": "Python 3 (ipykernel)",
   "language": "python",
   "name": "python3"
  },
  "language_info": {
   "codemirror_mode": {
    "name": "ipython",
    "version": 3
   },
   "file_extension": ".py",
   "mimetype": "text/x-python",
   "name": "python",
   "nbconvert_exporter": "python",
   "pygments_lexer": "ipython3",
   "version": "3.10.12"
  },
  "widgets": {
   "application/vnd.jupyter.widget-state+json": {
    "state": {},
    "version_major": 2,
    "version_minor": 0
   }
  }
 },
 "nbformat": 4,
 "nbformat_minor": 5
}
